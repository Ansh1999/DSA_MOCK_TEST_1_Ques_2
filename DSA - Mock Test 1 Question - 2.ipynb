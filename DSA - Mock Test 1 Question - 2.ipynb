{
 "cells": [
  {
   "cell_type": "code",
   "execution_count": 4,
   "id": "bb8a2044",
   "metadata": {},
   "outputs": [
    {
     "name": "stdout",
     "output_type": "stream",
     "text": [
      "2\n",
      "-1\n"
     ]
    }
   ],
   "source": [
    "def unique(s):\n",
    "    \n",
    "    l=[]\n",
    "    for i in range(len(s)):\n",
    "        count=0\n",
    "        for j in range(len(s)):\n",
    "            if s[i]==s[j]:\n",
    "                count+=1\n",
    "        if count==1:\n",
    "            a=i\n",
    "            break\n",
    "        else:\n",
    "            a=-1\n",
    "    return a\n",
    "\n",
    "print(unique(\"loveleetcode\"))\n",
    "print(unique(\"aabbcc\"))"
   ]
  }
 ],
 "metadata": {
  "kernelspec": {
   "display_name": "Python 3 (ipykernel)",
   "language": "python",
   "name": "python3"
  },
  "language_info": {
   "codemirror_mode": {
    "name": "ipython",
    "version": 3
   },
   "file_extension": ".py",
   "mimetype": "text/x-python",
   "name": "python",
   "nbconvert_exporter": "python",
   "pygments_lexer": "ipython3",
   "version": "3.9.13"
  }
 },
 "nbformat": 4,
 "nbformat_minor": 5
}
